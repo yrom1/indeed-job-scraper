{
 "cells": [
  {
   "cell_type": "code",
   "execution_count": null,
   "metadata": {},
   "outputs": [],
   "source": [
    "import pandas as pd\n",
    "import pathlib\n",
    "import subprocess"
   ]
  },
  {
   "cell_type": "code",
   "execution_count": null,
   "metadata": {},
   "outputs": [],
   "source": [
    "c1 = [\"ls\", \"-r\", \"archive/\"]\n",
    "c2 = [\"grep\", \"*.p\"]\n",
    "\n",
    "p1 = subprocess.run(c1, check=True, capture_output=True)\n",
    "p2 = subprocess.run(c2, input=p1.stdout, capture_output=True)\n",
    "\n",
    "NEWEST_PICKLE = p2.stdout.decode(\"utf-8\").strip()"
   ]
  },
  {
   "cell_type": "code",
   "execution_count": null,
   "metadata": {},
   "outputs": [],
   "source": [
    "jobs = pd.read_pickle(NEWEST_PICKLE)"
   ]
  },
  {
   "cell_type": "code",
   "execution_count": null,
   "metadata": {},
   "outputs": [],
   "source": [
    "pd.set_option(\"display.max_colwidth\", None)\n",
    "jobs"
   ]
  }
 ],
 "metadata": {
  "interpreter": {
   "hash": "c48a81c6c5b7d744222314b31af5417821328bb703bfd77ca6cb0682b7ef6622"
  },
  "kernelspec": {
   "display_name": "Python 3.8.10 64-bit ('.venv': venv)",
   "language": "python",
   "name": "python3"
  },
  "language_info": {
   "codemirror_mode": {
    "name": "ipython",
    "version": 3
   },
   "file_extension": ".py",
   "mimetype": "text/x-python",
   "name": "python",
   "nbconvert_exporter": "python",
   "pygments_lexer": "ipython3",
   "version": "3.10.1"
  },
  "orig_nbformat": 4
 },
 "nbformat": 4,
 "nbformat_minor": 2
}

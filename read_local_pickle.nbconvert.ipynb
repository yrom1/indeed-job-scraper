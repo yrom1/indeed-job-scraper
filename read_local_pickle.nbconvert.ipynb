{
 "cells": [
  {
   "cell_type": "code",
   "execution_count": 1,
   "metadata": {
    "execution": {
     "iopub.execute_input": "2022-04-17T07:52:19.541905Z",
     "iopub.status.busy": "2022-04-17T07:52:19.541477Z",
     "iopub.status.idle": "2022-04-17T07:52:19.802184Z",
     "shell.execute_reply": "2022-04-17T07:52:19.801599Z"
    }
   },
   "outputs": [],
   "source": [
    "import pandas as pd\n",
    "import subprocess\n",
    "from pathlib import Path"
   ]
  },
  {
   "cell_type": "code",
   "execution_count": 2,
   "metadata": {
    "execution": {
     "iopub.execute_input": "2022-04-17T07:52:19.806869Z",
     "iopub.status.busy": "2022-04-17T07:52:19.805853Z",
     "iopub.status.idle": "2022-04-17T07:52:20.170556Z",
     "shell.execute_reply": "2022-04-17T07:52:20.170045Z"
    }
   },
   "outputs": [
    {
     "name": "stdout",
     "output_type": "stream",
     "text": [
      "Updating 719bb1c..48bbc83\n",
      "Fast-forward\n",
      " README.md                                          | 3072 +-----------\n",
      " archive/2022-04-17_07:49:55.569633_data_junior.p   |  Bin 0 -> 39071 bytes\n",
      " archive/2022-04-17_07:50:42.276349_python_junior.p |  Bin 0 -> 50517 bytes\n",
      " archive/2022-04-17_07:51:32.670518_sql_junior.p    |  Bin 0 -> 48869 bytes\n",
      " read_local_pickle.nbconvert.ipynb                  | 4994 +-------------------\n",
      " 5 files changed, 241 insertions(+), 7825 deletions(-)\n",
      " create mode 100644 archive/2022-04-17_07:49:55.569633_data_junior.p\n",
      " create mode 100644 archive/2022-04-17_07:50:42.276349_python_junior.p\n",
      " create mode 100644 archive/2022-04-17_07:51:32.670518_sql_junior.p\n"
     ]
    },
    {
     "name": "stderr",
     "output_type": "stream",
     "text": [
      "From https://github.com/yrom1/indeed-job-scraper\n",
      "   719bb1c..48bbc83  main       -> origin/main\n"
     ]
    },
    {
     "data": {
      "text/plain": [
       "CompletedProcess(args=['git', 'pull', '--ff-only'], returncode=0)"
      ]
     },
     "execution_count": 2,
     "metadata": {},
     "output_type": "execute_result"
    }
   ],
   "source": [
    "subprocess.run([\"git\", \"pull\", \"--ff-only\"])"
   ]
  },
  {
   "cell_type": "code",
   "execution_count": 3,
   "metadata": {
    "execution": {
     "iopub.execute_input": "2022-04-17T07:52:20.198441Z",
     "iopub.status.busy": "2022-04-17T07:52:20.197880Z",
     "iopub.status.idle": "2022-04-17T07:52:20.208779Z",
     "shell.execute_reply": "2022-04-17T07:52:20.204445Z"
    }
   },
   "outputs": [],
   "source": [
    "data, sql, py = [], [], []\n",
    "pickles = list(Path('.').glob('./archive/*'))\n",
    "for pickle in pickles:\n",
    "    stem = pickle.stem\n",
    "    if 'data' in stem:\n",
    "        data.append(stem)\n",
    "    if 'sql' in stem:\n",
    "        sql.append(stem)\n",
    "    if 'python' in stem:\n",
    "        py.append(stem)"
   ]
  },
  {
   "cell_type": "code",
   "execution_count": 4,
   "metadata": {
    "execution": {
     "iopub.execute_input": "2022-04-17T07:52:20.211587Z",
     "iopub.status.busy": "2022-04-17T07:52:20.211301Z",
     "iopub.status.idle": "2022-04-17T07:52:20.214681Z",
     "shell.execute_reply": "2022-04-17T07:52:20.214149Z"
    }
   },
   "outputs": [],
   "source": [
    "newest_pickles = ['./archive/' + sorted(x)[-1] + '.p' for x in (data, sql, py)]\n"
   ]
  },
  {
   "cell_type": "code",
   "execution_count": 5,
   "metadata": {
    "execution": {
     "iopub.execute_input": "2022-04-17T07:52:20.217060Z",
     "iopub.status.busy": "2022-04-17T07:52:20.216788Z",
     "iopub.status.idle": "2022-04-17T07:52:20.222469Z",
     "shell.execute_reply": "2022-04-17T07:52:20.221969Z"
    }
   },
   "outputs": [],
   "source": [
    "dfs = [pd.read_pickle(pickle) for pickle in newest_pickles]\n",
    "#pd.set_option(\"display.max_colwidth\", None)\n",
    "# pd.set_option(\"display.max_rows\", 999)"
   ]
  },
  {
   "cell_type": "code",
   "execution_count": 6,
   "metadata": {
    "execution": {
     "iopub.execute_input": "2022-04-17T07:52:20.224849Z",
     "iopub.status.busy": "2022-04-17T07:52:20.224566Z",
     "iopub.status.idle": "2022-04-17T07:52:20.248645Z",
     "shell.execute_reply": "2022-04-17T07:52:20.247973Z"
    }
   },
   "outputs": [
    {
     "data": {
      "text/html": [
       "<div>\n",
       "<style scoped>\n",
       "    .dataframe tbody tr th:only-of-type {\n",
       "        vertical-align: middle;\n",
       "    }\n",
       "\n",
       "    .dataframe tbody tr th {\n",
       "        vertical-align: top;\n",
       "    }\n",
       "\n",
       "    .dataframe thead th {\n",
       "        text-align: right;\n",
       "    }\n",
       "</style>\n",
       "<table border=\"1\" class=\"dataframe\">\n",
       "  <thead>\n",
       "    <tr style=\"text-align: right;\">\n",
       "      <th></th>\n",
       "      <th>titles</th>\n",
       "      <th>companyNames</th>\n",
       "      <th>jobSnippets</th>\n",
       "      <th>dates</th>\n",
       "      <th>links</th>\n",
       "    </tr>\n",
       "  </thead>\n",
       "  <tbody>\n",
       "    <tr>\n",
       "      <th>0</th>\n",
       "      <td>Financial Analyst I</td>\n",
       "      <td>BGIS</td>\n",
       "      <td>Enters data to sub ledger systems. Gathers au...</td>\n",
       "      <td>Today</td>\n",
       "      <td>https://ca.indeed.com/jobs?q=Financial%20Analy...</td>\n",
       "    </tr>\n",
       "    <tr>\n",
       "      <th>107</th>\n",
       "      <td>Junior PHP backend developer</td>\n",
       "      <td>Eversun Software Corp.</td>\n",
       "      <td>Hands on experience with PHP 7, Mysql, MongoD...</td>\n",
       "      <td>Today</td>\n",
       "      <td>https://ca.indeed.com/jobs?q=Junior%20PHP%20ba...</td>\n",
       "    </tr>\n",
       "    <tr>\n",
       "      <th>2</th>\n",
       "      <td>Jr. SQL BI Developer</td>\n",
       "      <td>Vox Mobile</td>\n",
       "      <td>This role will play an integral role in suppo...</td>\n",
       "      <td>1 day ago</td>\n",
       "      <td>https://ca.indeed.com/jobs?q=Jr.%20SQL%20BI%20...</td>\n",
       "    </tr>\n",
       "    <tr>\n",
       "      <th>109</th>\n",
       "      <td>Junior DevOps Developer</td>\n",
       "      <td>Checkfront</td>\n",
       "      <td>Your daily work will include CI systems, Kube...</td>\n",
       "      <td>1 day ago</td>\n",
       "      <td>https://ca.indeed.com/jobs?q=Junior%20DevOps%2...</td>\n",
       "    </tr>\n",
       "    <tr>\n",
       "      <th>110</th>\n",
       "      <td>Junior Developer</td>\n",
       "      <td>Silver Icing Inc</td>\n",
       "      <td>As a Silver Icing Junior Developer, you have ...</td>\n",
       "      <td>1 day ago</td>\n",
       "      <td>https://ca.indeed.com/jobs?q=Junior%20Develope...</td>\n",
       "    </tr>\n",
       "    <tr>\n",
       "      <th>...</th>\n",
       "      <td>...</td>\n",
       "      <td>...</td>\n",
       "      <td>...</td>\n",
       "      <td>...</td>\n",
       "      <td>...</td>\n",
       "    </tr>\n",
       "    <tr>\n",
       "      <th>196</th>\n",
       "      <td>QA Analyst</td>\n",
       "      <td>SHIPTRACK INC.</td>\n",
       "      <td>Analyze, document, and prioritize bug reports...</td>\n",
       "      <td>30+ days ago</td>\n",
       "      <td>https://ca.indeed.com/jobs?q=QA%20Analyst%20SH...</td>\n",
       "    </tr>\n",
       "    <tr>\n",
       "      <th>197</th>\n",
       "      <td>Junior Developer - Quality Assurance</td>\n",
       "      <td>Fortran Traffic Systems</td>\n",
       "      <td>With the arrival of transportation technologi...</td>\n",
       "      <td>30+ days ago</td>\n",
       "      <td>https://ca.indeed.com/jobs?q=Junior%20Develope...</td>\n",
       "    </tr>\n",
       "    <tr>\n",
       "      <th>198</th>\n",
       "      <td>Junior Web Developer</td>\n",
       "      <td>Outshinery Creative</td>\n",
       "      <td>You will work closely with our CTO on various...</td>\n",
       "      <td>30+ days ago</td>\n",
       "      <td>https://ca.indeed.com/jobs?q=Junior%20Web%20De...</td>\n",
       "    </tr>\n",
       "    <tr>\n",
       "      <th>200</th>\n",
       "      <td>Junior Software Developer</td>\n",
       "      <td>Bioinformatics Solutions</td>\n",
       "      <td>Work closely with other developers in an agil...</td>\n",
       "      <td>30+ days ago</td>\n",
       "      <td>https://ca.indeed.com/jobs?q=Junior%20Software...</td>\n",
       "    </tr>\n",
       "    <tr>\n",
       "      <th>308</th>\n",
       "      <td>Jr. / Int. Software Engineering (12mo fixed term)</td>\n",
       "      <td>Magellan Aerospace</td>\n",
       "      <td>Magellan Aerospace, Winnipeg is looking for a...</td>\n",
       "      <td>30+ days ago</td>\n",
       "      <td>https://ca.indeed.com/jobs?q=Jr.%20/%20Int.%20...</td>\n",
       "    </tr>\n",
       "  </tbody>\n",
       "</table>\n",
       "<p>294 rows × 5 columns</p>\n",
       "</div>"
      ],
      "text/plain": [
       "                                                titles  \\\n",
       "0                                  Financial Analyst I   \n",
       "107                       Junior PHP backend developer   \n",
       "2                                 Jr. SQL BI Developer   \n",
       "109                            Junior DevOps Developer   \n",
       "110                                   Junior Developer   \n",
       "..                                                 ...   \n",
       "196                                         QA Analyst   \n",
       "197               Junior Developer - Quality Assurance   \n",
       "198                               Junior Web Developer   \n",
       "200                          Junior Software Developer   \n",
       "308  Jr. / Int. Software Engineering (12mo fixed term)   \n",
       "\n",
       "                 companyNames  \\\n",
       "0                        BGIS   \n",
       "107    Eversun Software Corp.   \n",
       "2                  Vox Mobile   \n",
       "109                Checkfront   \n",
       "110          Silver Icing Inc   \n",
       "..                        ...   \n",
       "196            SHIPTRACK INC.   \n",
       "197   Fortran Traffic Systems   \n",
       "198       Outshinery Creative   \n",
       "200  Bioinformatics Solutions   \n",
       "308        Magellan Aerospace   \n",
       "\n",
       "                                           jobSnippets         dates  \\\n",
       "0     Enters data to sub ledger systems. Gathers au...         Today   \n",
       "107   Hands on experience with PHP 7, Mysql, MongoD...         Today   \n",
       "2     This role will play an integral role in suppo...     1 day ago   \n",
       "109   Your daily work will include CI systems, Kube...     1 day ago   \n",
       "110   As a Silver Icing Junior Developer, you have ...     1 day ago   \n",
       "..                                                 ...           ...   \n",
       "196   Analyze, document, and prioritize bug reports...  30+ days ago   \n",
       "197   With the arrival of transportation technologi...  30+ days ago   \n",
       "198   You will work closely with our CTO on various...  30+ days ago   \n",
       "200   Work closely with other developers in an agil...  30+ days ago   \n",
       "308   Magellan Aerospace, Winnipeg is looking for a...  30+ days ago   \n",
       "\n",
       "                                                 links  \n",
       "0    https://ca.indeed.com/jobs?q=Financial%20Analy...  \n",
       "107  https://ca.indeed.com/jobs?q=Junior%20PHP%20ba...  \n",
       "2    https://ca.indeed.com/jobs?q=Jr.%20SQL%20BI%20...  \n",
       "109  https://ca.indeed.com/jobs?q=Junior%20DevOps%2...  \n",
       "110  https://ca.indeed.com/jobs?q=Junior%20Develope...  \n",
       "..                                                 ...  \n",
       "196  https://ca.indeed.com/jobs?q=QA%20Analyst%20SH...  \n",
       "197  https://ca.indeed.com/jobs?q=Junior%20Develope...  \n",
       "198  https://ca.indeed.com/jobs?q=Junior%20Web%20De...  \n",
       "200  https://ca.indeed.com/jobs?q=Junior%20Software...  \n",
       "308  https://ca.indeed.com/jobs?q=Jr.%20/%20Int.%20...  \n",
       "\n",
       "[294 rows x 5 columns]"
      ]
     },
     "execution_count": 6,
     "metadata": {},
     "output_type": "execute_result"
    }
   ],
   "source": [
    "df = pd.concat(dfs).drop_duplicates(subset=['titles', 'companyNames'], ignore_index=True).sort_values('clean_dates')\n",
    "\n",
    "def filter_cols_by_strs(df, cols, strings):\n",
    "    for col in cols:\n",
    "        for string in strings:\n",
    "            # to see the job postings this filters read:\n",
    "            # print(df[df[col].str.contains(string) == True])\n",
    "            df = df[df[col].str.contains(string) == False]\n",
    "    return df\n",
    "\n",
    "df = filter_cols_by_strs(df, ['titles', 'jobSnippets'], ['.NET', 'C#', 'Java'])\n",
    "df.drop(columns=['locations','clean_dates'])"
   ]
  },
  {
   "cell_type": "code",
   "execution_count": null,
   "metadata": {},
   "outputs": [],
   "source": []
  }
 ],
 "metadata": {
  "interpreter": {
   "hash": "c48a81c6c5b7d744222314b31af5417821328bb703bfd77ca6cb0682b7ef6622"
  },
  "kernelspec": {
   "display_name": "Python 3.8.10 64-bit ('.venv': venv)",
   "language": "python",
   "name": "python3"
  },
  "language_info": {
   "codemirror_mode": {
    "name": "ipython",
    "version": 3
   },
   "file_extension": ".py",
   "mimetype": "text/x-python",
   "name": "python",
   "nbconvert_exporter": "python",
   "pygments_lexer": "ipython3",
   "version": "3.9.12"
  }
 },
 "nbformat": 4,
 "nbformat_minor": 2
}

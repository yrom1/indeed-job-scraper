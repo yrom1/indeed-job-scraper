{
 "cells": [
  {
   "cell_type": "code",
   "execution_count": 1,
   "metadata": {
    "execution": {
     "iopub.execute_input": "2022-04-17T07:51:35.522469Z",
     "iopub.status.busy": "2022-04-17T07:51:35.522102Z",
     "iopub.status.idle": "2022-04-17T07:51:35.761796Z",
     "shell.execute_reply": "2022-04-17T07:51:35.760773Z"
    }
   },
   "outputs": [],
   "source": [
    "import pandas as pd\n",
    "import subprocess\n",
    "from pathlib import Path"
   ]
  },
  {
   "cell_type": "code",
   "execution_count": 2,
   "metadata": {
    "execution": {
     "iopub.execute_input": "2022-04-17T07:51:35.764818Z",
     "iopub.status.busy": "2022-04-17T07:51:35.764525Z",
     "iopub.status.idle": "2022-04-17T07:51:36.030952Z",
     "shell.execute_reply": "2022-04-17T07:51:36.030308Z"
    }
   },
   "outputs": [
    {
     "name": "stdout",
     "output_type": "stream",
     "text": [
      "Updating 45124b9..719bb1c\n",
      "Fast-forward\n",
      " read_local_pickle.ipynb | 128 +-----------------------------------------------\n",
      " 1 file changed, 2 insertions(+), 126 deletions(-)\n"
     ]
    },
    {
     "name": "stderr",
     "output_type": "stream",
     "text": [
      "From https://github.com/yrom1/indeed-job-scraper\n",
      "   45124b9..719bb1c  main       -> origin/main\n"
     ]
    },
    {
     "data": {
      "text/plain": [
       "CompletedProcess(args=['git', 'pull', '--ff-only'], returncode=0)"
      ]
     },
     "execution_count": 2,
     "metadata": {},
     "output_type": "execute_result"
    }
   ],
   "source": [
    "subprocess.run([\"git\", \"pull\", \"--ff-only\"])"
   ]
  },
  {
   "cell_type": "code",
   "execution_count": 3,
   "metadata": {
    "execution": {
     "iopub.execute_input": "2022-04-17T07:51:36.057767Z",
     "iopub.status.busy": "2022-04-17T07:51:36.057192Z",
     "iopub.status.idle": "2022-04-17T07:51:36.063392Z",
     "shell.execute_reply": "2022-04-17T07:51:36.062803Z"
    }
   },
   "outputs": [],
   "source": [
    "data, sql, py = [], [], []\n",
    "pickles = list(Path('.').glob('./archive/*'))\n",
    "for pickle in pickles:\n",
    "    stem = pickle.stem\n",
    "    if 'data' in stem:\n",
    "        data.append(stem)\n",
    "    if 'sql' in stem:\n",
    "        sql.append(stem)\n",
    "    if 'python' in stem:\n",
    "        py.append(stem)"
   ]
  },
  {
   "cell_type": "code",
   "execution_count": 4,
   "metadata": {
    "execution": {
     "iopub.execute_input": "2022-04-17T07:51:36.066149Z",
     "iopub.status.busy": "2022-04-17T07:51:36.065662Z",
     "iopub.status.idle": "2022-04-17T07:51:36.069134Z",
     "shell.execute_reply": "2022-04-17T07:51:36.068616Z"
    }
   },
   "outputs": [],
   "source": [
    "newest_pickles = ['./archive/' + sorted(x)[-1] + '.p' for x in (data, sql, py)]\n"
   ]
  },
  {
   "cell_type": "code",
   "execution_count": 5,
   "metadata": {
    "execution": {
     "iopub.execute_input": "2022-04-17T07:51:36.071615Z",
     "iopub.status.busy": "2022-04-17T07:51:36.071267Z",
     "iopub.status.idle": "2022-04-17T07:51:36.076674Z",
     "shell.execute_reply": "2022-04-17T07:51:36.076181Z"
    }
   },
   "outputs": [],
   "source": [
    "dfs = [pd.read_pickle(pickle) for pickle in newest_pickles]\n",
    "#pd.set_option(\"display.max_colwidth\", None)\n",
    "# pd.set_option(\"display.max_rows\", 999)"
   ]
  },
  {
   "cell_type": "code",
   "execution_count": 6,
   "metadata": {
    "execution": {
     "iopub.execute_input": "2022-04-17T07:51:36.079346Z",
     "iopub.status.busy": "2022-04-17T07:51:36.078774Z",
     "iopub.status.idle": "2022-04-17T07:51:36.101728Z",
     "shell.execute_reply": "2022-04-17T07:51:36.101179Z"
    }
   },
   "outputs": [
    {
     "data": {
      "text/html": [
       "<div>\n",
       "<style scoped>\n",
       "    .dataframe tbody tr th:only-of-type {\n",
       "        vertical-align: middle;\n",
       "    }\n",
       "\n",
       "    .dataframe tbody tr th {\n",
       "        vertical-align: top;\n",
       "    }\n",
       "\n",
       "    .dataframe thead th {\n",
       "        text-align: right;\n",
       "    }\n",
       "</style>\n",
       "<table border=\"1\" class=\"dataframe\">\n",
       "  <thead>\n",
       "    <tr style=\"text-align: right;\">\n",
       "      <th></th>\n",
       "      <th>titles</th>\n",
       "      <th>companyNames</th>\n",
       "      <th>jobSnippets</th>\n",
       "      <th>dates</th>\n",
       "      <th>links</th>\n",
       "    </tr>\n",
       "  </thead>\n",
       "  <tbody>\n",
       "    <tr>\n",
       "      <th>0</th>\n",
       "      <td>Financial Analyst I</td>\n",
       "      <td>BGIS</td>\n",
       "      <td>Enters data to sub ledger systems. Gathers au...</td>\n",
       "      <td>Today</td>\n",
       "      <td>https://ca.indeed.com/jobs?q=Financial%20Analy...</td>\n",
       "    </tr>\n",
       "    <tr>\n",
       "      <th>100</th>\n",
       "      <td>Junior PHP backend developer</td>\n",
       "      <td>Eversun Software Corp.</td>\n",
       "      <td>Hands on experience with PHP 7, Mysql, MongoD...</td>\n",
       "      <td>Today</td>\n",
       "      <td>https://ca.indeed.com/jobs?q=Junior%20PHP%20ba...</td>\n",
       "    </tr>\n",
       "    <tr>\n",
       "      <th>1</th>\n",
       "      <td>Jr. SQL BI Developer</td>\n",
       "      <td>Vox Mobile</td>\n",
       "      <td>This role will play an integral role in suppo...</td>\n",
       "      <td>1 day ago</td>\n",
       "      <td>https://ca.indeed.com/jobs?q=Jr.%20SQL%20BI%20...</td>\n",
       "    </tr>\n",
       "    <tr>\n",
       "      <th>222</th>\n",
       "      <td>Junior Software Developer</td>\n",
       "      <td>CardinalChain Software, Inc.</td>\n",
       "      <td>Maintain and enhance enterprise financial sys...</td>\n",
       "      <td>Active 1 day ago</td>\n",
       "      <td>https://ca.indeed.com/jobs?q=Junior%20Software...</td>\n",
       "    </tr>\n",
       "    <tr>\n",
       "      <th>221</th>\n",
       "      <td>Junior Fiscal Policy Analyst</td>\n",
       "      <td>Validus Healthcare Economics Inc.</td>\n",
       "      <td>Location: Winnipeg (Resident of Winnipeg or w...</td>\n",
       "      <td>Active 1 day ago</td>\n",
       "      <td>https://ca.indeed.com/jobs?q=Junior%20Fiscal%2...</td>\n",
       "    </tr>\n",
       "    <tr>\n",
       "      <th>...</th>\n",
       "      <td>...</td>\n",
       "      <td>...</td>\n",
       "      <td>...</td>\n",
       "      <td>...</td>\n",
       "      <td>...</td>\n",
       "    </tr>\n",
       "    <tr>\n",
       "      <th>200</th>\n",
       "      <td>Junior Drupal Developer (Remote Friendly)</td>\n",
       "      <td>Acro Media</td>\n",
       "      <td>Acro Media is looking for a Drupal Software D...</td>\n",
       "      <td>30+ days ago</td>\n",
       "      <td>https://ca.indeed.com/jobs?q=Junior%20Drupal%2...</td>\n",
       "    </tr>\n",
       "    <tr>\n",
       "      <th>201</th>\n",
       "      <td>Junior Software Developer</td>\n",
       "      <td>i-Open Technologies</td>\n",
       "      <td>You will be required to learn how to leverage...</td>\n",
       "      <td>30+ days ago</td>\n",
       "      <td>https://ca.indeed.com/jobs?q=Junior%20Software...</td>\n",
       "    </tr>\n",
       "    <tr>\n",
       "      <th>202</th>\n",
       "      <td>Junior Developer/Programmer</td>\n",
       "      <td>SimplyCast</td>\n",
       "      <td>Maintain software design consistency, aesthet...</td>\n",
       "      <td>30+ days ago</td>\n",
       "      <td>https://ca.indeed.com/jobs?q=Junior%20Develope...</td>\n",
       "    </tr>\n",
       "    <tr>\n",
       "      <th>194</th>\n",
       "      <td>Junior Developer</td>\n",
       "      <td>University of Alberta Students' Union</td>\n",
       "      <td>As part of an information technology team, th...</td>\n",
       "      <td>30+ days ago</td>\n",
       "      <td>https://ca.indeed.com/jobs?q=Junior%20Develope...</td>\n",
       "    </tr>\n",
       "    <tr>\n",
       "      <th>311</th>\n",
       "      <td>Data Processing Analyst I - 1 year contract (2)</td>\n",
       "      <td>ERIS Info.</td>\n",
       "      <td>ERIS has an immediate opportunity for a Data ...</td>\n",
       "      <td>30+ days ago</td>\n",
       "      <td>https://ca.indeed.com/jobs?q=Data%20Processing...</td>\n",
       "    </tr>\n",
       "  </tbody>\n",
       "</table>\n",
       "<p>297 rows × 5 columns</p>\n",
       "</div>"
      ],
      "text/plain": [
       "                                              titles  \\\n",
       "0                                Financial Analyst I   \n",
       "100                     Junior PHP backend developer   \n",
       "1                               Jr. SQL BI Developer   \n",
       "222                        Junior Software Developer   \n",
       "221                     Junior Fiscal Policy Analyst   \n",
       "..                                               ...   \n",
       "200        Junior Drupal Developer (Remote Friendly)   \n",
       "201                        Junior Software Developer   \n",
       "202                      Junior Developer/Programmer   \n",
       "194                                 Junior Developer   \n",
       "311  Data Processing Analyst I - 1 year contract (2)   \n",
       "\n",
       "                              companyNames  \\\n",
       "0                                     BGIS   \n",
       "100                 Eversun Software Corp.   \n",
       "1                               Vox Mobile   \n",
       "222           CardinalChain Software, Inc.   \n",
       "221      Validus Healthcare Economics Inc.   \n",
       "..                                     ...   \n",
       "200                             Acro Media   \n",
       "201                    i-Open Technologies   \n",
       "202                             SimplyCast   \n",
       "194  University of Alberta Students' Union   \n",
       "311                             ERIS Info.   \n",
       "\n",
       "                                           jobSnippets             dates  \\\n",
       "0     Enters data to sub ledger systems. Gathers au...             Today   \n",
       "100   Hands on experience with PHP 7, Mysql, MongoD...             Today   \n",
       "1     This role will play an integral role in suppo...         1 day ago   \n",
       "222   Maintain and enhance enterprise financial sys...  Active 1 day ago   \n",
       "221   Location: Winnipeg (Resident of Winnipeg or w...  Active 1 day ago   \n",
       "..                                                 ...               ...   \n",
       "200   Acro Media is looking for a Drupal Software D...      30+ days ago   \n",
       "201   You will be required to learn how to leverage...      30+ days ago   \n",
       "202   Maintain software design consistency, aesthet...      30+ days ago   \n",
       "194   As part of an information technology team, th...      30+ days ago   \n",
       "311   ERIS has an immediate opportunity for a Data ...      30+ days ago   \n",
       "\n",
       "                                                 links  \n",
       "0    https://ca.indeed.com/jobs?q=Financial%20Analy...  \n",
       "100  https://ca.indeed.com/jobs?q=Junior%20PHP%20ba...  \n",
       "1    https://ca.indeed.com/jobs?q=Jr.%20SQL%20BI%20...  \n",
       "222  https://ca.indeed.com/jobs?q=Junior%20Software...  \n",
       "221  https://ca.indeed.com/jobs?q=Junior%20Fiscal%2...  \n",
       "..                                                 ...  \n",
       "200  https://ca.indeed.com/jobs?q=Junior%20Drupal%2...  \n",
       "201  https://ca.indeed.com/jobs?q=Junior%20Software...  \n",
       "202  https://ca.indeed.com/jobs?q=Junior%20Develope...  \n",
       "194  https://ca.indeed.com/jobs?q=Junior%20Develope...  \n",
       "311  https://ca.indeed.com/jobs?q=Data%20Processing...  \n",
       "\n",
       "[297 rows x 5 columns]"
      ]
     },
     "execution_count": 6,
     "metadata": {},
     "output_type": "execute_result"
    }
   ],
   "source": [
    "df = pd.concat(dfs).drop_duplicates(subset=['titles', 'companyNames'], ignore_index=True).sort_values('clean_dates')\n",
    "\n",
    "def filter_cols_by_strs(df, cols, strings):\n",
    "    for col in cols:\n",
    "        for string in strings:\n",
    "            # to see the job postings this filters read:\n",
    "            # print(df[df[col].str.contains(string) == True])\n",
    "            df = df[df[col].str.contains(string) == False]\n",
    "    return df\n",
    "\n",
    "df = filter_cols_by_strs(df, ['titles', 'jobSnippets'], ['.NET', 'C#', 'Java'])\n",
    "df.drop(columns=['locations','clean_dates'])"
   ]
  },
  {
   "cell_type": "code",
   "execution_count": null,
   "metadata": {},
   "outputs": [],
   "source": []
  }
 ],
 "metadata": {
  "interpreter": {
   "hash": "c48a81c6c5b7d744222314b31af5417821328bb703bfd77ca6cb0682b7ef6622"
  },
  "kernelspec": {
   "display_name": "Python 3.8.10 64-bit ('.venv': venv)",
   "language": "python",
   "name": "python3"
  },
  "language_info": {
   "codemirror_mode": {
    "name": "ipython",
    "version": 3
   },
   "file_extension": ".py",
   "mimetype": "text/x-python",
   "name": "python",
   "nbconvert_exporter": "python",
   "pygments_lexer": "ipython3",
   "version": "3.9.12"
  }
 },
 "nbformat": 4,
 "nbformat_minor": 2
}
